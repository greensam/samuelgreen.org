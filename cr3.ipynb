{
  "worksheets": [
    {
      "cells": [
        {
          "source": [
            "<center> <h1> Computer Science 51: Code Review 3 </h1> </center>\n",
            "<center> Sam Green<br> <a href=mailto:samuelgreen@college.harvard.edu>samuelgreen@college.harvard.edu</a> </center>"
          ],
          "metadata": { "slideshow": { "slide_type": "slide" } },
          "cell_type": "markdown"
        },
        {
          "source": [
            "###Review Agenda\n",
            "\n",
            "1. Problem Set 2 Review: `deoptionalize`\n",
            "3. Problem Set 2 Review: How cool was `expression`!!!???\n",
            "3. Problem Set 3 prep: what in the world is a `bignum`? \n"
          ],
          "metadata": { "slideshow": { "slide_type": "slide" } },
          "cell_type": "markdown"
        },
        {
          "source": [
            "# `deoptionalize`"
          ],
          "metadata": { "slideshow": { "slide_type": "slide" } },
          "cell_type": "markdown"
        },
        {
          "source": [
            "Imagine that we care about building a function that converts an `'a option list` into an `'a list`. (Why would we ever care about something like that!?). **A good way to start is by writing tests**, so that we can write code that we know is correct even beyond the safety provided by the type system. Here are some example tests:"
          ],
          "metadata": { "slideshow": { "slide_type": "slide" } },
          "cell_type": "markdown"
        },
        {
          "outputs": [
            {
              "html": [
                "<pre style=\"color:slategray;max-height:100px;overflow:hidden\" \n",
                "onclick=\"\n",
                "if (this.style.maxHeight === 'none') \n",
                "    this.style.maxHeight = '100px';\n",
                "else\n",
                "    this.style.maxHeight = 'none'; \n",
                "\">val test : (int option list -&gt; int list) -&gt; unit -&gt; unit = &lt;fun&gt;\n",
                "</pre>"
              ],
              "output_type": "pyout",
              "prompt_number": 1,
              "metadata": {}
            }
          ],
          "input": [
            "let test deoptf () =\n",
            "    assert(deoptf [] = []);\n",
            "    assert(deoptf [None] = []);\n",
            "    assert(deoptf [Some 10] = [10]);\n",
            "    assert(deoptf [None; Some 10; None] = [10]);\n",
            "    assert(deoptf [Some 10; None; Some 9] = [10;9]);\n",
            "    Printf.printf \"Tests pass without incident. This function does what we want!\";\n",
            "    ()"
          ],
          "metadata": {},
          "cell_type": "code",
          "prompt_number": 1,
          "language": "python",
          "collapsed": false
        },
        {
          "source": [
            "#### Discussion question: are the tests above exhaustive? \n"
          ],
          "metadata": {},
          "cell_type": "markdown"
        },
        {
          "source": [
            "\n",
            "**Let's move on to a first implementation.** Read through this code."
          ],
          "metadata": { "slideshow": { "slide_type": "slide" } },
          "cell_type": "markdown"
        },
        {
          "outputs": [
            {
              "html": [
                "<pre style=\"color:slategray;max-height:100px;overflow:hidden\" \n",
                "onclick=\"\n",
                "if (this.style.maxHeight === 'none') \n",
                "    this.style.maxHeight = '100px';\n",
                "else\n",
                "    this.style.maxHeight = 'none'; \n",
                "\">val deoptionalize1 : 'a option list -&gt; 'a list = &lt;fun&gt;\n",
                "</pre>"
              ],
              "output_type": "pyout",
              "prompt_number": 2,
              "metadata": {}
            }
          ],
          "input": [
            "let deoptionalize1 (lst : 'a option list) : 'a list =\n",
            "    let filter (elt : 'a option) : bool =\n",
            "        match elt with\n",
            "        | None -> false\n",
            "        | _ -> true in\n",
            "    let filtered_lst = List.filter filter lst in\n",
            "    let conversion (elt : 'a option) : 'a =\n",
            "\t  match elt with\n",
            "\t  | Some(value) -> value\n",
            "\t  | None -> failwith \"Error during filtering\" in\n",
            "\tList.map conversion filtered_lst;;"
          ],
          "metadata": {},
          "cell_type": "code",
          "prompt_number": 2,
          "language": "python",
          "collapsed": false
        },
        {
          "source": [
            "The **far-and-away most** important question we have to ask first is: is this code **correct**? How can we reason about its correctness?"
          ],
          "metadata": {},
          "cell_type": "markdown"
        },
        {
          "outputs": [
            {
              "text": [
                "Tests pass without incident. This function does what we want!"
              ],
              "output_type": "stream",
              "stream": "stdout"
            },
            {
              "html": [
                "<pre style=\"color:slategray;max-height:100px;overflow:hidden\" \n",
                "onclick=\"\n",
                "if (this.style.maxHeight === 'none') \n",
                "    this.style.maxHeight = '100px';\n",
                "else\n",
                "    this.style.maxHeight = 'none'; \n",
                "\">- : unit = ()\n",
                "</pre>"
              ],
              "output_type": "pyout",
              "prompt_number": 3,
              "metadata": {}
            }
          ],
          "input": [
            "test deoptionalize1 ();"
          ],
          "metadata": {},
          "cell_type": "code",
          "prompt_number": 3,
          "language": "python",
          "collapsed": true
        },
        {
          "source": [
            "#### Discussion question: how can `deoptionalize1` be improved? What's not as elegant as it might be? "
          ],
          "metadata": {},
          "cell_type": "markdown"
        },
        {
          "source": [
            "Here's another implementation. **First reactions?**"
          ],
          "metadata": { "slideshow": { "slide_type": "slide" } },
          "cell_type": "markdown"
        },
        {
          "outputs": [
            {
              "text": [
                "File \"[4]\", line 2, characters 23-49:\n",
                "Warning 8: this pattern-matching is not exhaustive.\n",
                "Here is an example of a value that is not matched:\n",
                "None\n"
              ],
              "output_type": "stream",
              "stream": "stderr"
            },
            {
              "html": [
                "<pre style=\"color:slategray;max-height:100px;overflow:hidden\" \n",
                "onclick=\"\n",
                "if (this.style.maxHeight === 'none') \n",
                "    this.style.maxHeight = '100px';\n",
                "else\n",
                "    this.style.maxHeight = 'none'; \n",
                "\">val deoptionalize2 : 'a option list -&gt; 'a list = &lt;fun&gt;\n",
                "</pre>"
              ],
              "output_type": "pyout",
              "prompt_number": 4,
              "metadata": {}
            }
          ],
          "input": [
            "let deoptionalize2 (lst : 'a option list) : 'a list =\n",
            "    List.map (fun e -> match e with | Some n -> n)\n",
            "        (List.filter (fun e -> e <> None) lst)"
          ],
          "metadata": {},
          "cell_type": "code",
          "prompt_number": 4,
          "language": "python",
          "collapsed": false
        },
        {
          "source": [
            "Back to the usual first question: is this code **correct**?"
          ],
          "metadata": { "slideshow": { "slide_type": "-" } },
          "cell_type": "markdown"
        },
        {
          "outputs": [
            {
              "text": [
                "Tests pass without incident. This function does what we want!"
              ],
              "output_type": "stream",
              "stream": "stdout"
            },
            {
              "html": [
                "<pre style=\"color:slategray;max-height:100px;overflow:hidden\" \n",
                "onclick=\"\n",
                "if (this.style.maxHeight === 'none') \n",
                "    this.style.maxHeight = '100px';\n",
                "else\n",
                "    this.style.maxHeight = 'none'; \n",
                "\">- : unit = ()\n",
                "</pre>"
              ],
              "output_type": "pyout",
              "prompt_number": 5,
              "metadata": {}
            }
          ],
          "input": [
            "test deoptionalize2 ()"
          ],
          "metadata": {},
          "cell_type": "code",
          "prompt_number": 5,
          "language": "python",
          "collapsed": false
        },
        {
          "source": [
            "Looks like the code is correct. \n",
            "\n",
            "#### Discussion question: is this good enough? Is this code reliable? Is it maintainable?"
          ],
          "metadata": {},
          "cell_type": "markdown"
        },
        {
          "source": [
            "On to a third implementation, relying on `fold_right` instead of on `filter` and `map`. What do you think about this function?"
          ],
          "metadata": { "slideshow": { "slide_type": "slide" } },
          "cell_type": "markdown"
        },
        {
          "outputs": [
            {
              "html": [
                "<pre style=\"color:slategray;max-height:100px;overflow:hidden\" \n",
                "onclick=\"\n",
                "if (this.style.maxHeight === 'none') \n",
                "    this.style.maxHeight = '100px';\n",
                "else\n",
                "    this.style.maxHeight = 'none'; \n",
                "\">val deoptionalize3 : 'a option list -&gt; 'a list = &lt;fun&gt;\n",
                "</pre>"
              ],
              "output_type": "pyout",
              "prompt_number": 6,
              "metadata": {}
            }
          ],
          "input": [
            "let deoptionalize3 (lst : 'a option list) : 'a list = \n",
            "    List.fold_right (fun e acc -> match e with\n",
            "                                  | Some e1 -> e1::acc\n",
            "                                  | None -> acc) lst []"
          ],
          "metadata": {},
          "cell_type": "code",
          "prompt_number": 6,
          "language": "python",
          "collapsed": false
        },
        {
          "outputs": [
            {
              "text": [
                "Tests pass without incident. This function does what we want!"
              ],
              "output_type": "stream",
              "stream": "stdout"
            },
            {
              "html": [
                "<pre style=\"color:slategray;max-height:100px;overflow:hidden\" \n",
                "onclick=\"\n",
                "if (this.style.maxHeight === 'none') \n",
                "    this.style.maxHeight = '100px';\n",
                "else\n",
                "    this.style.maxHeight = 'none'; \n",
                "\">- : unit = ()\n",
                "</pre>"
              ],
              "output_type": "pyout",
              "prompt_number": 7,
              "metadata": {}
            }
          ],
          "input": [
            "test deoptionalize3 ()"
          ],
          "metadata": {},
          "cell_type": "code",
          "prompt_number": 7,
          "language": "python",
          "collapsed": false
        },
        {
          "source": [
            "This seems like a reasonable overall solution."
          ],
          "metadata": {},
          "cell_type": "markdown"
        },
        {
          "source": [
            "# `expression`"
          ],
          "metadata": { "slideshow": { "slide_type": "slide" } },
          "cell_type": "markdown"
        },
        {
          "source": [
            "What do we take away?\n",
            "\n",
            "- Recursive, concrete, machine readable representation of an abstract human idea.\n",
            "- Automated-zero finding: this is what Wolfram Alpha does!\n",
            "- Tree-structures return throughout CS 51 and is also a core principle in CS more broadly."
          ],
          "metadata": {},
          "cell_type": "markdown"
        },
        {
          "source": [
            "# Problem Set Preview"
          ],
          "metadata": { "slideshow": { "slide_type": "slide" } },
          "cell_type": "markdown"
        },
        {
          "source": [
            "This week's problem set revolves around some more math.\n",
            "\n",
            "## What's a bignum?\n",
            "\n",
            "<center> <b>bignum</b>: noun. A multiple-precision computer representation for very large integers. </center>\n",
            "\n",
            "<br>\n",
            "Bignums provide fundamental support for mathematical operations that don't fit into the standard 32 or 64 bit integer available as a primitive type.\n",
            "\n",
            "## What do you have to do? \n",
            "\n",
            "This week, you'll implement the core functions that would make up a `bignum` module. \n",
            "\n",
            "- `negate`\n",
            "- `fromInt` and `toInt`\n",
            "- `plus`\n",
            "- `times`\n",
            "\n",
            "**Advice: _really_ understand what needs to happen before you start trying to code. The concrete syntax gets in the way of logic that is familiar. Write the reasoning down in words!"
          ],
          "metadata": {},
          "cell_type": "markdown"
        }
      ],
      "metadata": {}
    }
  ],
  "metadata": { "name": "", "language": "ocaml" },
  "nbformat": 3,
  "nbformat_minor": 0
}